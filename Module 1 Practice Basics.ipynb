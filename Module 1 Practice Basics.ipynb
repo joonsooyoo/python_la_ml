{
 "cells": [
  {
   "cell_type": "markdown",
   "id": "ce50ff0d",
   "metadata": {},
   "source": [
    "# Implementation of Linear Algebra and Machine Learning Algorithms"
   ]
  },
  {
   "cell_type": "markdown",
   "id": "69666ca4",
   "metadata": {},
   "source": [
    "We will be working with numpy library, famous for working with vectors "
   ]
  },
  {
   "cell_type": "code",
   "execution_count": 5,
   "id": "7b2e130e",
   "metadata": {},
   "outputs": [],
   "source": [
    "import numpy as np"
   ]
  },
  {
   "cell_type": "markdown",
   "id": "96e9b1e0",
   "metadata": {},
   "source": [
    "1. using numpy library, create two vectors [1, 2, 3] and [4, 5, 6]"
   ]
  },
  {
   "cell_type": "code",
   "execution_count": 6,
   "id": "4379cd72",
   "metadata": {},
   "outputs": [],
   "source": [
    "a = np.array([1,2,3])\n",
    "b = np.array([3,4,5])"
   ]
  },
  {
   "cell_type": "markdown",
   "id": "be531212",
   "metadata": {},
   "source": [
    "2. add two arrays and store it in a variable 'result'"
   ]
  },
  {
   "cell_type": "code",
   "execution_count": 9,
   "id": "779320bb",
   "metadata": {},
   "outputs": [
    {
     "name": "stdout",
     "output_type": "stream",
     "text": [
      "[4 6 8]\n"
     ]
    }
   ],
   "source": [
    "result = a + b\n",
    "print(result)"
   ]
  },
  {
   "cell_type": "code",
   "execution_count": null,
   "id": "9ded3704",
   "metadata": {},
   "outputs": [],
   "source": []
  }
 ],
 "metadata": {
  "kernelspec": {
   "display_name": "Python 3",
   "language": "python",
   "name": "python3"
  },
  "language_info": {
   "codemirror_mode": {
    "name": "ipython",
    "version": 3
   },
   "file_extension": ".py",
   "mimetype": "text/x-python",
   "name": "python",
   "nbconvert_exporter": "python",
   "pygments_lexer": "ipython3",
   "version": "3.7.13"
  }
 },
 "nbformat": 4,
 "nbformat_minor": 5
}
